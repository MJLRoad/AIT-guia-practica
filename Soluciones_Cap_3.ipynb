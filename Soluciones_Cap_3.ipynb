{
 "cells": [
  {
   "cell_type": "markdown",
   "metadata": {},
   "source": [
    "# Soluciones a los ejercicios del Capítulo 3"
   ]
  },
  {
   "cell_type": "markdown",
   "metadata": {},
   "source": [
    "## 3.3 Descomposición en bloques mediante particiones"
   ]
  },
  {
   "cell_type": "markdown",
   "metadata": {},
   "source": [
    "### Ejercicio 3.2"
   ]
  },
  {
   "cell_type": "markdown",
   "metadata": {},
   "source": [
    "Los valores CTM de las cadenas <code>s_a</code>, <code>s_b</code>, <code>s_c</code> y <code>s_TM</code> son, según el Calculador Algorítmico en Línea, igual a 25.610, 26.991, 38.064 y 33.134, respectivamente. A continuación tabulamos todos los valores de aleatoriedad obtenidos desde ejercicios anteriores,"
   ]
  },
  {
   "cell_type": "code",
   "execution_count": 1,
   "metadata": {},
   "outputs": [],
   "source": [
    "from prettytable import PrettyTable\n",
    "\n",
    "str_labs = [\"s_a\", \"s_b\", \"s_c\", \"s_TM\"]\n",
    "str_dict = [\"111111111111\", \"010101010101\", \"111001011000\", \"011010011001\"]\n",
    "HBmax_list = [0.0, 1.0, 2.0, 1.5] # Ejercicio 2.1\n",
    "CR_list = [0.417, 0.500, 0.667, 0.667] # Ejercicio 2.2\n",
    "CA_list = [25.610, 26.991, 38.064, 33.134]\n",
    "\n",
    "randomness_dict = {str_labs[_]:{\"HBmax\":HBmax_list[_], \"CR\":CR_list[_], \"CA\":CA_list[_]} for _ in range(len(str_labs))}"
   ]
  },
  {
   "cell_type": "code",
   "execution_count": 2,
   "metadata": {},
   "outputs": [
    {
     "name": "stdout",
     "output_type": "stream",
     "text": [
      "+---------------------+-------+-------+--------+\n",
      "|        String       | HBmax |   CR  |   CA   |\n",
      "+---------------------+-------+-------+--------+\n",
      "|  s_a = 111111111111 |  0.0  | 0.417 | 25.61  |\n",
      "|  s_b = 010101010101 |  1.0  |  0.5  | 26.991 |\n",
      "|  s_c = 111001011000 |  2.0  | 0.667 | 38.064 |\n",
      "| s_TM = 011010011001 |  1.5  | 0.667 | 33.134 |\n",
      "+---------------------+-------+-------+--------+\n"
     ]
    }
   ],
   "source": [
    "x = PrettyTable()\n",
    "x.add_column(\"String\", [str_labs[_] + \" = \" + str_dict[_] for _ in range(len(str_labs))])\n",
    "x.add_column(\"HBmax\", HBmax_list)\n",
    "x.add_column(\"CR\", CR_list)\n",
    "x.add_column(\"CA\", CA_list)\n",
    "\n",
    "print(x)"
   ]
  },
  {
   "cell_type": "markdown",
   "metadata": {},
   "source": [
    "Primero, obtenemos las razones CA(s_b)/CA(s_a) y CR(s_b)/CR(s_a),"
   ]
  },
  {
   "cell_type": "code",
   "execution_count": 3,
   "metadata": {},
   "outputs": [
    {
     "name": "stdout",
     "output_type": "stream",
     "text": [
      "CA(s_b)/CA(s_a) = 1.053924248340492\n",
      "CR(s_b)/CR(s_a) = 1.1990407673860912\n"
     ]
    }
   ],
   "source": [
    "print(f\"CA(s_b)/CA(s_a) = {randomness_dict['s_b']['CA']/randomness_dict['s_a']['CA']}\")\n",
    "print(f\"CR(s_b)/CR(s_a) = {randomness_dict['s_b']['CR']/randomness_dict['s_a']['CR']}\")"
   ]
  },
  {
   "cell_type": "markdown",
   "metadata": {},
   "source": [
    "Podemos ver que la cadena <code>s_a</code> es más comprimible que la cadena <code>s_b</code>, según ambas métricas de aleatoriedad. "
   ]
  },
  {
   "cell_type": "markdown",
   "metadata": {},
   "source": [
    "Por último, obtenemos las razones CA(s_c)/CA(s_TM), CR(s_c)/CR(s_TM) y\n",
    "HBmax(s_c)/HBmax(s_TM),"
   ]
  },
  {
   "cell_type": "code",
   "execution_count": 4,
   "metadata": {},
   "outputs": [
    {
     "name": "stdout",
     "output_type": "stream",
     "text": [
      "CA(s_c)/CA(s_TM) = 1.148789762781433\n",
      "CR(s_c)/CR(s_TM) = 1.0\n",
      "HBmax(s_c)/HBmax(s_TM) = 1.3333333333333333\n"
     ]
    }
   ],
   "source": [
    "print(f\"CA(s_c)/CA(s_TM) = {randomness_dict['s_c']['CA']/randomness_dict['s_TM']['CA']}\")\n",
    "print(f\"CR(s_c)/CR(s_TM) = {randomness_dict['s_c']['CR']/randomness_dict['s_TM']['CR']}\")\n",
    "print(f\"HBmax(s_c)/HBmax(s_TM) = {randomness_dict['s_c']['HBmax']/randomness_dict['s_TM']['HBmax']}\")"
   ]
  },
  {
   "cell_type": "markdown",
   "metadata": {},
   "source": [
    "Vemos que la respuesta a la pregunta sobre cuál de las dos cadenas es más comprimible depende de la métrica que se usa para comparar: según la CA y la entropía de bloque, <code>s_TM</code> es más comprimible que <code>s_c</code> mientras que, según la razón de compresibilidad, ambas cadenas son igual de comprimibles. La razón de esto la encontramos en el hecho de que la CA sirve para encontrar objetos con aleatoriedad baja más allá de lo que es posible con algoritmos de compresión (vea subsección 3.2.1)."
   ]
  },
  {
   "cell_type": "markdown",
   "metadata": {},
   "source": [
    "### Ejercicio 3.3"
   ]
  },
  {
   "cell_type": "markdown",
   "metadata": {},
   "source": [
    "Sea $L$ la longitud de la secuencia a analizar, y sea $l$ la longitud de bloque y de la ventana deslizable. La ventana se desliza en pasos de tamaño $m$, y tiene qué cubrir el resto de $L-l$ dígitos que quedan a la derecha en cierto número de pasos. Por lo tanto, $m$ debe ser un divisor exacto de la cantidad $L-l$ para tener una partición correlacionada sin sobras (sin olvidar que $m \\le l$).\n",
    "\n",
    "Los valores permitidos de $m$ para $L = 36$ y $l = 12$ son"
   ]
  },
  {
   "cell_type": "code",
   "execution_count": 5,
   "metadata": {},
   "outputs": [
    {
     "name": "stdout",
     "output_type": "stream",
     "text": [
      "12\n",
      "8\n",
      "6\n",
      "4\n",
      "3\n",
      "2\n",
      "1\n"
     ]
    }
   ],
   "source": [
    "L,l = 36,12\n",
    "for m in range(l,0,-1):\n",
    "    if (L-l)%m == 0:\n",
    "        print(m)"
   ]
  },
  {
   "cell_type": "code",
   "execution_count": null,
   "metadata": {},
   "outputs": [],
   "source": []
  }
 ],
 "metadata": {
  "kernelspec": {
   "display_name": ".venv",
   "language": "python",
   "name": "python3"
  },
  "language_info": {
   "codemirror_mode": {
    "name": "ipython",
    "version": 3
   },
   "file_extension": ".py",
   "mimetype": "text/x-python",
   "name": "python",
   "nbconvert_exporter": "python",
   "pygments_lexer": "ipython3",
   "version": "3.11.2"
  }
 },
 "nbformat": 4,
 "nbformat_minor": 2
}
